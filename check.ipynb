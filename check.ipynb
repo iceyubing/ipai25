{
 "cells": [
  {
   "cell_type": "code",
   "execution_count": 1,
   "metadata": {},
   "outputs": [],
   "source": [
    "import pandas as pd\n",
    "traffic = pd.read_csv(\"original data/trafficlist_forcountry.csv\")\n",
    "forest = pd.read_csv(\"original data/forest-cover-v1.csv\")\n",
    "air_city = pd.read_csv(\"original data/aap_air_quality_database_2018_v14.csv\", skiprows=2)\n",
    "air_country = pd.read_csv(\"original data/【12】GlobalPM25-1998-2022.csv\")\n",
    "weather = pd.read_csv(\"original data/GlobalWeatherRepository.csv\")"
   ]
  },
  {
   "cell_type": "code",
   "execution_count": null,
   "metadata": {},
   "outputs": [],
   "source": [
    "countries_traffic = traffic['Location'].dropna().unique()\n",
    "countries_forest = forest['Country Name'].dropna().unique()\n",
    "countries_air_city = air_city['Country'].dropna().unique()\n",
    "countries_air_country = air_country['Region'].dropna().unique()\n",
    "countries_air_weather = weather['country'].dropna().unique()"
   ]
  },
  {
   "cell_type": "code",
   "execution_count": null,
   "metadata": {},
   "outputs": [],
   "source": [
    "cities_air_city = air_city['City/Town'].dropna().unique()\n",
    "cities_air_weather = weather['location_name'].dropna().unique()"
   ]
  },
  {
   "cell_type": "code",
   "execution_count": null,
   "metadata": {},
   "outputs": [],
   "source": [
    "#Data Cleaning Rules Applied\n",
    "#1. Country Column Rules:\n",
    "# Duplicates are not allowed\n",
    "# Missing (null) values are not allowed\n",
    "# Entries containing numbers are not allowed\n",
    "\n",
    "#2. City Column Rules:\n",
    "# Missing (null) values are not allowed\n",
    "# Entries containing numbers are not allowed\n",
    "\n",
    "# Check if it is empty\n",
    "invalid_country_null = df['country'].isnull()\n",
    "invalid_city_null = df['city'].isnull()\n",
    "\n",
    "# Check if it contains a number (regular expression)检查是否含有数字（正则表达式）\n",
    "invalid_country_digit = df['country'].astype(str).str.contains(r'\\d', regex=True)\n",
    "invalid_city_digit = df['city'].astype(str).str.contains(r'\\d', regex=True)\n",
    "\n",
    "# Check if country is duplicated\n",
    "duplicate_countries = df['country'].duplicated(keep=False)\n",
    "\n",
    "# Merge all illegal conditions\n",
    "invalid_rows = invalid_country_null | invalid_country_digit | duplicate_countries | invalid_city_null | invalid_city_digit\n",
    "\n",
    "# Extracting non-compliant data\n",
    "invalid_data = df[invalid_rows]\n",
    "\n",
    "print(invalid_data)\n",
    "\n",
    "# Keep \"clean data\" that meets requirements\n",
    "cleaned_df = df[~invalid_rows].copy()\n"
   ]
  },
  {
   "cell_type": "code",
   "execution_count": null,
   "metadata": {},
   "outputs": [],
   "source": [
    "#3. Numeric Column Rules:\n",
    "# Missing (null) values are not allowed\n",
    "# Entries containing alphabet are not allowed\n"
   ]
  }
 ],
 "metadata": {
  "kernelspec": {
   "display_name": "Python 3",
   "language": "python",
   "name": "python3"
  },
  "language_info": {
   "codemirror_mode": {
    "name": "ipython",
    "version": 3
   },
   "file_extension": ".py",
   "mimetype": "text/x-python",
   "name": "python",
   "nbconvert_exporter": "python",
   "pygments_lexer": "ipython3",
   "version": "3.12.9"
  }
 },
 "nbformat": 4,
 "nbformat_minor": 2
}
