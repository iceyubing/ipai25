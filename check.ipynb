{
 "cells": [
  {
   "cell_type": "code",
   "execution_count": null,
   "metadata": {},
   "outputs": [],
   "source": [
    "import pandas as pd\n",
    "traffic = pd.read_csv(\"filtered data/trafficlist_forcountry.csv\")\n",
    "forest = pd.read_csv(\"filtered data/forest-cover-v1.csv\")\n",
    "air_city = pd.read_csv(\"filtered data/air_quality_city.csv\")\n",
    "air_country = pd.read_csv(\"filtered data/GlobalPM25-1998-2022.csv\")\n",
    "weather = pd.read_csv(\"filtered data/GlobalWeatherRepository.csv\")"
   ]
  },
  {
   "cell_type": "code",
   "execution_count": null,
   "metadata": {},
   "outputs": [],
   "source": [
    "countries_traffic = traffic['Country'].dropna().unique()\n",
    "countries_forest = forest['Country Name'].dropna().unique()\n",
    "countries_air_city = air_city['Country'].dropna().unique()\n",
    "countries_air_country = air_country['Country'].dropna().unique()\n",
    "countries_air_weather = weather['Country'].dropna().unique()"
   ]
  },
  {
   "cell_type": "code",
   "execution_count": null,
   "metadata": {},
   "outputs": [],
   "source": [
    "cities_air_city = air_city['City/Town'].dropna().unique()\n",
    "cities_air_weather = weather['location_name'].dropna().unique()"
   ]
  },
  {
   "cell_type": "code",
   "execution_count": null,
   "metadata": {},
   "outputs": [],
   "source": [
    "#Data Cleaning Rules Applied\n",
    "#1. Country Column Rules:\n",
    "# Duplicates are not allowed\n",
    "# Missing (null) values are not allowed\n",
    "# Entries containing numbers are not allowed\n",
    "\n",
    "#2. City Column Rules:\n",
    "# Missing (null) values are not allowed\n",
    "# Entries containing numbers are not allowed\n",
    "\n",
    "#traffic\n",
    "\n",
    "# Check if it is empty\n",
    "invalid_country_null_1 = traffic['Country'].isnull()\n",
    "\n",
    "\n",
    "# Check if it contains a number (regular expression)\n",
    "invalid_country_digit = traffic['Country'].astype(str).str.contains(r'\\d', regex=True)\n",
    "\n",
    "# Check if country is duplicated\n",
    "duplicate_countries = traffic['Country'].duplicated(keep=False)\n",
    "\n",
    "# Merge all illegal conditions\n",
    "invalid_rows = invalid_country_null_1 | invalid_country_digit | duplicate_countries \n",
    "\n",
    "# Extracting non-compliant data\n",
    "invalid_data = traffic[invalid_rows]\n",
    "\n",
    "print(invalid_data)\n",
    "\n",
    "# Keep \"clean data\" that meets requirements\n",
    "cleaned_df = traffic[~invalid_rows].copy()\n"
   ]
  },
  {
   "cell_type": "code",
   "execution_count": null,
   "metadata": {},
   "outputs": [],
   "source": [
    "#forest\n",
    "\n",
    "# Check if it is empty\n",
    "invalid_country_null_2 = forest['Country Name'].isnull()\n",
    "\n",
    "# Check if it contains a number (regular expression)\n",
    "invalid_country_digit = forest['Country Name'].astype(str).str.contains(r'\\d', regex=True)\n",
    "\n",
    "# Check if country is duplicated\n",
    "duplicate_countries = forest['Country Name'].duplicated(keep=False)\n",
    "\n",
    "# Merge all illegal conditions\n",
    "invalid_rows = invalid_country_null_2 | invalid_country_digit | duplicate_countries\n",
    "\n",
    "# Extracting non-compliant data\n",
    "invalid_data = forest[invalid_rows]\n",
    "\n",
    "print(invalid_data)\n",
    "\n",
    "# Keep \"clean data\" that meets requirements\n",
    "cleaned_df = forest[~invalid_rows].copy()"
   ]
  },
  {
   "cell_type": "code",
   "execution_count": null,
   "metadata": {},
   "outputs": [],
   "source": [
    "#air_quality_city\n",
    "\n",
    "# Check if it is empty\n",
    "invalid_country_null_3 = air_city['Country'].isnull()\n",
    "\n",
    "\n",
    "invalid_city_null_3 = air_city['City/Town'].isnull()\n",
    "\n",
    "# Check if it contains a number (regular expression)\n",
    "invalid_country_digit = air_city['Country'].astype(str).str.contains(r'\\d', regex=True)\n",
    "invalid_city_digit = air_city['City/Town'].astype(str).str.contains(r'\\d', regex=True)\n",
    "\n",
    "# Check if country is duplicated\n",
    "duplicate_countries = air_city['Country'].duplicated(keep=False)\n",
    "\n",
    "# Merge all illegal conditions\n",
    "invalid_rows = invalid_country_null_3 | invalid_country_digit | duplicate_countries | invalid_city_digit| invalid_city_null_3\n",
    "\n",
    "# Extracting non-compliant data\n",
    "invalid_data = air_city[invalid_rows]\n",
    "\n",
    "print(invalid_data)\n",
    "\n",
    "# Keep \"clean data\" that meets requirements\n",
    "cleaned_df = air_city[~invalid_rows].copy()"
   ]
  },
  {
   "cell_type": "code",
   "execution_count": null,
   "metadata": {},
   "outputs": [],
   "source": [
    "#air_quality_country\n",
    "\n",
    "# Check if it is empty\n",
    "invalid_country_null_4 = air_country['Country'].isnull()\n",
    "\n",
    "\n",
    "# Check if it contains a number (regular expression)\n",
    "invalid_country_digit = air_country['Country'].astype(str).str.contains(r'\\d', regex=True)\n",
    "\n",
    "\n",
    "# Check if country is duplicated\n",
    "duplicate_countries = air_country['Country'].duplicated(keep=False)\n",
    "\n",
    "# Merge all illegal conditions\n",
    "invalid_rows = invalid_country_null_3 | invalid_country_digit | duplicate_countries \n",
    "# Extracting non-compliant data\n",
    "invalid_data = air_country[invalid_rows]\n",
    "\n",
    "print(invalid_data)\n",
    "\n",
    "# Keep \"clean data\" that meets requirements\n",
    "cleaned_df = air_country[~invalid_rows].copy()"
   ]
  },
  {
   "cell_type": "code",
   "execution_count": null,
   "metadata": {},
   "outputs": [],
   "source": [
    "#air_quality_weather\n",
    "\n",
    "# Check if it is empty\n",
    "invalid_country_null_5 = weather['Country'].isnull()\n",
    "\n",
    "\n",
    "invalid_city_null_5 = weather['location_name'].isnull()\n",
    "\n",
    "# Check if it contains a number (regular expression)\n",
    "invalid_country_digit = weather['Country'].astype(str).str.contains(r'\\d', regex=True)\n",
    "invalid_city_digit = weather['location_name'].astype(str).str.contains(r'\\d', regex=True)\n",
    "\n",
    "# Check if country is duplicated\n",
    "duplicate_countries = weather['Country'].duplicated(keep=False)\n",
    "\n",
    "# Merge all illegal conditions\n",
    "invalid_rows = invalid_country_null_5 | invalid_country_digit | duplicate_countries | invalid_city_digit| invalid_city_null_5\n",
    "\n",
    "# Extracting non-compliant data\n",
    "invalid_data = weather[invalid_rows]\n",
    "\n",
    "print(invalid_data)\n",
    "\n",
    "# Keep \"clean data\" that meets requirements\n",
    "cleaned_df = weather[~invalid_rows].copy()"
   ]
  },
  {
   "cell_type": "code",
   "execution_count": null,
   "metadata": {},
   "outputs": [],
   "source": [
    "#3. Numeric Column Rules:\n",
    "# Missing (null) values are not allowed\n",
    "# Entries containing alphabet are not allowed\n"
   ]
  }
 ],
 "metadata": {
  "kernelspec": {
   "display_name": "Python 3",
   "language": "python",
   "name": "python3"
  },
  "language_info": {
   "codemirror_mode": {
    "name": "ipython",
    "version": 3
   },
   "file_extension": ".py",
   "mimetype": "text/x-python",
   "name": "python",
   "nbconvert_exporter": "python",
   "pygments_lexer": "ipython3",
   "version": "3.12.9"
  }
 },
 "nbformat": 4,
 "nbformat_minor": 2
}
