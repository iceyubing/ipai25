{
 "cells": [
  {
   "cell_type": "code",
   "execution_count": null,
   "metadata": {},
   "outputs": [],
   "source": [
    "import pandas as pd\n",
    "from py_stringmatching import JaroWinkler"
   ]
  },
  {
   "cell_type": "code",
   "execution_count": null,
   "metadata": {},
   "outputs": [],
   "source": [
    "traffic = pd.read_csv(\"original data/trafficlist_forcountry.csv\")\n",
    "forest = pd.read_csv(\"original data/forest-cover-v1.csv\")\n",
    "air_city = pd.read_csv(\"original data/aap_air_quality_database_2018_v14.csv\", skiprows=2)\n",
    "air_country = pd.read_csv(\"original data/【12】GlobalPM25-1998-2022.csv\")\n",
    "weather = pd.read_csv(\"original data/GlobalWeatherRepository.csv\")"
   ]
  },
  {
   "cell_type": "code",
   "execution_count": null,
   "metadata": {},
   "outputs": [],
   "source": [
    "# Country - Jaro-Winkler\n",
    "jw = JaroWinkler()\n",
    "threshold = 0.90 # Set the matching threshold (adjustable)\n",
    "matches1 = [] # result\n",
    "\n",
    "countries_traffic = traffic['Location'].dropna().unique()\n",
    "countries_forest = forest['Country Name'].dropna().unique()\n",
    "countries_air_city = air_city['Country'].dropna().unique()\n",
    "countries_air_country = air_country['Region'].dropna().unique()\n",
    "countries_air_weather = weather['country'].dropna().unique()"
   ]
  },
  {
   "cell_type": "code",
   "execution_count": null,
   "metadata": {},
   "outputs": [],
   "source": [
    "# traffic-forest\n",
    "for city_a in countries_traffic:\n",
    "    for city_b in countries_forest:\n",
    "        score = jw.get_sim_score(str(city_a), str(city_b))\n",
    "        if score >= threshold:\n",
    "            matches1.append({\n",
    "                \"City_A\": city_a,\n",
    "                \"City_B\": city_b,\n",
    "                \"Similarity\": round(score, 4)\n",
    "            })\n",
    "\n",
    "# result\n",
    "result_df = pd.DataFrame(matches1)\n",
    "print(result_df)\n"
   ]
  },
  {
   "cell_type": "code",
   "execution_count": null,
   "metadata": {},
   "outputs": [],
   "source": [
    "# traffic-air-city\n",
    "for city_a in countries_traffic:\n",
    "    for city_b in countries_air_country:\n",
    "        score = jw.get_sim_score(str(city_a), str(city_b))\n",
    "        if score >= threshold:\n",
    "            matches1.append({\n",
    "                \"City_A\": city_a,\n",
    "                \"City_B\": city_b,\n",
    "                \"Similarity\": round(score, 4)\n",
    "            })\n",
    "\n",
    "# reslt\n",
    "result_df = pd.DataFrame(matches1)\n",
    "print(result_df)\n"
   ]
  },
  {
   "cell_type": "code",
   "execution_count": null,
   "metadata": {},
   "outputs": [],
   "source": [
    "# air-country-weather\n",
    "for city_a in countries_traffic:\n",
    "    for city_b in countries_air_weather:\n",
    "        score = jw.get_sim_score(str(city_a), str(city_b))\n",
    "        if score >= threshold:\n",
    "            matches1.append({\n",
    "                \"City_A\": city_a,\n",
    "                \"City_B\": city_b,\n",
    "                \"Similarity\": round(score, 4)\n",
    "            })\n",
    "\n",
    "# reslt\n",
    "result_df = pd.DataFrame(matches1)\n",
    "print(result_df)"
   ]
  },
  {
   "cell_type": "code",
   "execution_count": null,
   "metadata": {},
   "outputs": [],
   "source": [
    "# traffic-air-city\n",
    "for city_a in countries_traffic:\n",
    "    for city_b in countries_air_city:\n",
    "        score = jw.get_sim_score(str(city_a), str(city_b))\n",
    "        if score >= threshold:\n",
    "            matches1.append({\n",
    "                \"City_A\": city_a,\n",
    "                \"City_B\": city_b,\n",
    "                \"Similarity\": round(score, 4)\n",
    "            })\n",
    "\n",
    "# reslt\n",
    "result_df = pd.DataFrame(matches1)\n",
    "print(result_df)"
   ]
  },
  {
   "cell_type": "code",
   "execution_count": null,
   "metadata": {},
   "outputs": [],
   "source": [
    "# air-country-weather\n",
    "for city_a in countries_air_country:\n",
    "    for city_b in countries_air_weather:\n",
    "        score = jw.get_sim_score(str(city_a), str(city_b))\n",
    "        if score >= threshold:\n",
    "            matches1.append({\n",
    "                \"City_A\": city_a,\n",
    "                \"City_B\": city_b,\n",
    "                \"Similarity\": round(score, 4)\n",
    "            })\n",
    "\n",
    "# reslt\n",
    "result_df = pd.DataFrame(matches1)\n",
    "print(result_df)"
   ]
  },
  {
   "cell_type": "code",
   "execution_count": null,
   "metadata": {},
   "outputs": [],
   "source": [
    "# City - Jaro-Winkler\n",
    "jw = JaroWinkler()\n",
    "threshold = 0.90\n",
    "matches2 = []\n",
    "\n",
    "cities_air_city = air_city['City/Town'].dropna().unique()\n",
    "cities_air_weather = weather['location_name'].dropna().unique()"
   ]
  },
  {
   "cell_type": "code",
   "execution_count": null,
   "metadata": {},
   "outputs": [],
   "source": [
    "# air-city-weather\n",
    "for city_a in cities_air_city:\n",
    "    for city_b in cities_air_weather:\n",
    "        score = jw.get_sim_score(str(city_a), str(city_b))\n",
    "        if score >= threshold:\n",
    "            matches2.append({\n",
    "                \"City_a\": city_a,\n",
    "                \"City_B\": city_b,\n",
    "                \"Similarity\": round(score, 4)\n",
    "            })\n",
    "\n",
    "# reslt\n",
    "result_df = pd.DataFrame(matches2)\n",
    "print(result_df)\n"
   ]
  }
 ],
 "metadata": {
  "kernelspec": {
   "display_name": "Python 3",
   "language": "python",
   "name": "python3"
  },
  "language_info": {
   "codemirror_mode": {
    "name": "ipython",
    "version": 3
   },
   "file_extension": ".py",
   "mimetype": "text/x-python",
   "name": "python",
   "nbconvert_exporter": "python",
   "pygments_lexer": "ipython3",
   "version": "3.12.9"
  }
 },
 "nbformat": 4,
 "nbformat_minor": 2
}
