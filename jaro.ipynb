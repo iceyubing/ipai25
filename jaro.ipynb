{
 "cells": [
  {
   "cell_type": "code",
   "execution_count": 9,
   "metadata": {},
   "outputs": [],
   "source": [
    "import pandas as pd\n",
    "from py_stringmatching import JaroWinkler"
   ]
  },
  {
   "cell_type": "code",
   "execution_count": 10,
   "metadata": {},
   "outputs": [],
   "source": [
    "traffic = pd.read_csv(\"original data/trafficlist_forcountry.csv\")\n",
    "forest = pd.read_csv(\"original data/forest-cover-v1.csv\")\n",
    "air_city = pd.read_csv(\"original data/aap_air_quality_database_2018_v14.csv\", skiprows=2)\n",
    "air_country = pd.read_csv(\"original data/【12】GlobalPM25-1998-2022.csv\")\n",
    "weather = pd.read_csv(\"original data/GlobalWeatherRepository.csv\")"
   ]
  },
  {
   "cell_type": "code",
   "execution_count": null,
   "metadata": {},
   "outputs": [],
   "source": [
    "# Country - Jaro-Winkler\n",
    "jw = JaroWinkler()\n",
    "threshold = 0.90 # Set the matching threshold (adjustable)\n",
    "matches1 = [] # result\n",
    "\n",
    "countries_traffic = traffic['Location'].dropna().unique()\n",
    "countries_forest = forest['Country Name'].dropna().unique()\n",
    "countries_air_city = air_city['Country'].dropna().unique()\n",
    "countries_air_country = air_country['Region'].dropna().unique()\n",
    "countries_air_weather = weather['country'].dropna().unique()"
   ]
  },
  {
   "cell_type": "code",
   "execution_count": 22,
   "metadata": {},
   "outputs": [
    {
     "name": "stdout",
     "output_type": "stream",
     "text": [
      "             City_A         City_B  Similarity City_D City_c\n",
      "0        San Marino     San Marino      0.9030    NaN    NaN\n",
      "1           Andorra        Andorra      0.9583    NaN    NaN\n",
      "2     Liechtenstein  Liechtenstein      0.9762    NaN    NaN\n",
      "3       New Zealand    New Zealand      0.9116    NaN    NaN\n",
      "4             Malta          Malta      0.9444    NaN    NaN\n",
      "..              ...            ...         ...    ...    ...\n",
      "577        Ethiopia       Ethiopia      0.9630    NaN    NaN\n",
      "578         Burundi        Burundi      0.9583    NaN    NaN\n",
      "579      Madagascar     Madagascar      0.9697    NaN    NaN\n",
      "580            Togo           Togo      0.9333    NaN    NaN\n",
      "581         Somalia        Somalia      0.9583    NaN    NaN\n",
      "\n",
      "[582 rows x 5 columns]\n"
     ]
    }
   ],
   "source": [
    "# traffic-forest\n",
    "for city_a in countries_traffic:\n",
    "    for city_b in countries_forest:\n",
    "        score = jw.get_sim_score(str(city_a), str(city_b))\n",
    "        if score >= threshold:\n",
    "            matches1.append({\n",
    "                \"City_A\": city_a,\n",
    "                \"City_B\": city_b,\n",
    "                \"Similarity\": round(score, 4)\n",
    "            })\n",
    "\n",
    "# result\n",
    "result_df = pd.DataFrame(matches1)\n",
    "print(result_df)\n"
   ]
  },
  {
   "cell_type": "code",
   "execution_count": null,
   "metadata": {},
   "outputs": [
    {
     "name": "stdout",
     "output_type": "stream",
     "text": [
      "             City_A         City_B  Similarity\n",
      "0        San Marino     San Marino      0.9030\n",
      "1           Andorra        Andorra      0.9583\n",
      "2     Liechtenstein  Liechtenstein      0.9762\n",
      "3       New Zealand    New Zealand      0.9116\n",
      "4             Malta          Malta      0.9444\n",
      "..              ...            ...         ...\n",
      "350      Bangladesh     Bangladesh      0.9697\n",
      "351        Cameroon       Cameroon      0.9630\n",
      "352         Senegal        Senegal      0.9583\n",
      "353       Indonesia      Indonesia      0.9667\n",
      "354      Madagascar     Madagascar      0.9697\n",
      "\n",
      "[355 rows x 3 columns]\n"
     ]
    }
   ],
   "source": [
    "# traffic-air-city\n",
    "for city_a in countries_traffic:\n",
    "    for city_c in countries_air_city:\n",
    "        score = jw.get_sim_score(str(city_a), str(city_c))\n",
    "        if score >= threshold:\n",
    "            matches1.append({\n",
    "                \"City_A\": city_a,\n",
    "                \"City_c\": city_c,\n",
    "                \"Similarity\": round(score, 4)\n",
    "            })\n",
    "\n",
    "# reslt\n",
    "result_df = pd.DataFrame(matches1)\n",
    "print(result_df)"
   ]
  },
  {
   "cell_type": "code",
   "execution_count": 21,
   "metadata": {},
   "outputs": [
    {
     "name": "stdout",
     "output_type": "stream",
     "text": [
      "             City_A         City_B  Similarity         City_D  \\\n",
      "0        San Marino     San Marino      0.9030            NaN   \n",
      "1           Andorra        Andorra      0.9583            NaN   \n",
      "2     Liechtenstein  Liechtenstein      0.9762            NaN   \n",
      "3       New Zealand    New Zealand      0.9116            NaN   \n",
      "4             Malta          Malta      0.9444            NaN   \n",
      "..              ...            ...         ...            ...   \n",
      "438             NaN            NaN      1.0000        Ukraine   \n",
      "439             NaN            NaN      1.0000        Uruguay   \n",
      "440             NaN            NaN      0.9083  United States   \n",
      "441             NaN            NaN      0.9214        Vietnam   \n",
      "442             NaN            NaN      1.0000   South Africa   \n",
      "\n",
      "                       City_c  \n",
      "0                         NaN  \n",
      "1                         NaN  \n",
      "2                         NaN  \n",
      "3                         NaN  \n",
      "4                         NaN  \n",
      "..                        ...  \n",
      "438                   Ukraine  \n",
      "439                   Uruguay  \n",
      "440  United States of America  \n",
      "441                  Viet Nam  \n",
      "442              South Africa  \n",
      "\n",
      "[443 rows x 5 columns]\n"
     ]
    }
   ],
   "source": [
    "# air-country-weather\n",
    "for city_d in countries_air_country:\n",
    "    for city_e in weather:\n",
    "        score = jw.get_sim_score(str(city_d), str(city_e))\n",
    "        if score >= threshold:\n",
    "            matches1.append({\n",
    "                \"City_D\": city_d,\n",
    "                \"City_E\": city_e,\n",
    "                \"Similarity\": round(score, 4)\n",
    "            })\n",
    "\n",
    "# reslt\n",
    "result_df = pd.DataFrame(matches1)\n",
    "print(result_df)"
   ]
  },
  {
   "cell_type": "code",
   "execution_count": 17,
   "metadata": {},
   "outputs": [],
   "source": [
    "# City - Jaro-Winkler\n",
    "jw = JaroWinkler()\n",
    "threshold = 0.90\n",
    "matches2 = []"
   ]
  },
  {
   "cell_type": "code",
   "execution_count": null,
   "metadata": {},
   "outputs": [],
   "source": []
  }
 ],
 "metadata": {
  "kernelspec": {
   "display_name": "Python 3",
   "language": "python",
   "name": "python3"
  },
  "language_info": {
   "codemirror_mode": {
    "name": "ipython",
    "version": 3
   },
   "file_extension": ".py",
   "mimetype": "text/x-python",
   "name": "python",
   "nbconvert_exporter": "python",
   "pygments_lexer": "ipython3",
   "version": "3.12.9"
  }
 },
 "nbformat": 4,
 "nbformat_minor": 2
}
