{
 "cells": [
  {
   "cell_type": "code",
   "execution_count": 40,
   "metadata": {},
   "outputs": [],
   "source": [
    "import pandas as pd\n",
    "from py_stringmatching import JaroWinkler"
   ]
  },
  {
   "cell_type": "code",
   "execution_count": 41,
   "metadata": {},
   "outputs": [],
   "source": [
    "traffic = pd.read_csv(\"original data/trafficlist_forcountry.csv\")\n",
    "forest = pd.read_csv(\"original data/forest-cover-v1.csv\")\n",
    "air_city = pd.read_csv(\"original data/aap_air_quality_database_2018_v14.csv\", skiprows=2)\n",
    "air_country = pd.read_csv(\"original data/【12】GlobalPM25-1998-2022.csv\")\n",
    "weather = pd.read_csv(\"original data/GlobalWeatherRepository.csv\")"
   ]
  },
  {
   "cell_type": "code",
   "execution_count": 42,
   "metadata": {},
   "outputs": [],
   "source": [
    "# Country - Jaro-Winkler\n",
    "jw = JaroWinkler()\n",
    "threshold = 0.90 # Set the matching threshold (adjustable)\n",
    "matches1 = [] # result\n",
    "\n",
    "countries_traffic = traffic['Location'].dropna().unique()\n",
    "countries_forest = forest['Country Name'].dropna().unique()\n",
    "countries_air_city = air_city['Country'].dropna().unique()\n",
    "countries_air_country = air_country['Region'].dropna().unique()\n",
    "countries_air_weather = weather['country'].dropna().unique()"
   ]
  },
  {
   "cell_type": "code",
   "execution_count": null,
   "metadata": {},
   "outputs": [
    {
     "name": "stdout",
     "output_type": "stream",
     "text": [
      "             City_A         City_B  Similarity\n",
      "0        San Marino     San Marino      0.9030\n",
      "1           Andorra        Andorra      0.9583\n",
      "2     Liechtenstein  Liechtenstein      0.9762\n",
      "3       New Zealand    New Zealand      0.9116\n",
      "4             Malta          Malta      0.9444\n",
      "..              ...            ...         ...\n",
      "837        Ethiopia       Ethiopia      0.9630\n",
      "838         Burundi        Burundi      0.9583\n",
      "839      Madagascar     Madagascar      0.9697\n",
      "840            Togo           Togo      0.9333\n",
      "841         Somalia        Somalia      0.9583\n",
      "\n",
      "[842 rows x 3 columns]\n"
     ]
    }
   ],
   "source": [
    "# traffic-forest\n",
    "\n",
    "prefix_length = 3\n",
    "\n",
    "# 4. 提取前缀列\n",
    "air_city['country_prefix'] = air_city['Country'].str[:prefix_length]\n",
    "weather['country_prefix'] = weather['country'].str[:prefix_length]\n",
    "\n",
    "# 5. 找出共同的前缀（阻塞）\n",
    "common_prefixes = set(air_city['country_prefix']).intersection(set(weather['country_prefix']))\n",
    "print(f\"共同的国家前缀有: {common_prefixes}\")\n",
    "\n",
    "# 6. 初始化匹配结果列表\n",
    "matches_prefix = []\n",
    "\n",
    "# 7. 只对共同前缀的国家做匹配\n",
    "for prefix in common_prefixes:\n",
    "    subset_a = air_city[air_city['country_prefix'] == prefix]\n",
    "    subset_b = weather[weather['country_prefix'] == prefix]\n",
    "\n",
    "for city_a in countries_traffic:\n",
    "    for city_b in countries_forest:\n",
    "        score = jw.get_sim_score(str(city_a), str(city_b))\n",
    "        if score >= threshold:\n",
    "            matches1.append({\n",
    "                \"City_A\": city_a,\n",
    "                \"City_B\": city_b,\n",
    "                \"Similarity\": round(score, 4)\n",
    "            })\n",
    "\n",
    "# result\n",
    "result_df = pd.DataFrame(matches1)\n",
    "print(result_df)\n"
   ]
  },
  {
   "cell_type": "code",
   "execution_count": 52,
   "metadata": {},
   "outputs": [
    {
     "name": "stdout",
     "output_type": "stream",
     "text": [
      "             City_A         City_B  Similarity\n",
      "0        San Marino     San Marino      0.9030\n",
      "1           Andorra        Andorra      0.9583\n",
      "2     Liechtenstein  Liechtenstein      0.9762\n",
      "3       New Zealand    New Zealand      0.9116\n",
      "4             Malta          Malta      0.9444\n",
      "..              ...            ...         ...\n",
      "991        Ethiopia       Ethiopia      0.9630\n",
      "992         Burundi        Burundi      0.9583\n",
      "993      Madagascar     Madagascar      0.9697\n",
      "994            Togo           Togo      0.9333\n",
      "995         Somalia        Somalia      0.9583\n",
      "\n",
      "[996 rows x 3 columns]\n"
     ]
    }
   ],
   "source": [
    "# traffic-air-city\n",
    "for city_a in countries_traffic:\n",
    "    for city_b in countries_air_country:\n",
    "        score = jw.get_sim_score(str(city_a), str(city_b))\n",
    "        if score >= threshold:\n",
    "            matches1.append({\n",
    "                \"City_A\": city_a,\n",
    "                \"City_B\": city_b,\n",
    "                \"Similarity\": round(score, 4)\n",
    "            })\n",
    "\n",
    "# reslt\n",
    "result_df = pd.DataFrame(matches1)\n",
    "print(result_df)\n"
   ]
  },
  {
   "cell_type": "code",
   "execution_count": 45,
   "metadata": {},
   "outputs": [
    {
     "name": "stdout",
     "output_type": "stream",
     "text": [
      "             City_A         City_B  Similarity\n",
      "0        San Marino     San Marino      0.9030\n",
      "1           Andorra        Andorra      0.9583\n",
      "2     Liechtenstein  Liechtenstein      0.9762\n",
      "3       New Zealand    New Zealand      0.9116\n",
      "4             Malta          Malta      0.9444\n",
      "..              ...            ...         ...\n",
      "431            Mali           Mali      0.9333\n",
      "432        Ethiopia       Ethiopia      0.9630\n",
      "433         Burundi        Burundi      0.9583\n",
      "434      Madagascar     Madagascar      0.9697\n",
      "435         Somalia        Somalia      0.9583\n",
      "\n",
      "[436 rows x 3 columns]\n"
     ]
    }
   ],
   "source": [
    "# air-country-weather\n",
    "for city_a in countries_traffic:\n",
    "    for city_b in countries_air_weather:\n",
    "        score = jw.get_sim_score(str(city_a), str(city_b))\n",
    "        if score >= threshold:\n",
    "            matches1.append({\n",
    "                \"City_A\": city_a,\n",
    "                \"City_B\": city_b,\n",
    "                \"Similarity\": round(score, 4)\n",
    "            })\n",
    "\n",
    "# reslt\n",
    "result_df = pd.DataFrame(matches1)\n",
    "print(result_df)"
   ]
  },
  {
   "cell_type": "code",
   "execution_count": 46,
   "metadata": {},
   "outputs": [
    {
     "name": "stdout",
     "output_type": "stream",
     "text": [
      "             City_A         City_B  Similarity\n",
      "0        San Marino     San Marino      0.9030\n",
      "1           Andorra        Andorra      0.9583\n",
      "2     Liechtenstein  Liechtenstein      0.9762\n",
      "3       New Zealand    New Zealand      0.9116\n",
      "4             Malta          Malta      0.9444\n",
      "..              ...            ...         ...\n",
      "508      Bangladesh     Bangladesh      0.9697\n",
      "509        Cameroon       Cameroon      0.9630\n",
      "510         Senegal        Senegal      0.9583\n",
      "511       Indonesia      Indonesia      0.9667\n",
      "512      Madagascar     Madagascar      0.9697\n",
      "\n",
      "[513 rows x 3 columns]\n"
     ]
    }
   ],
   "source": [
    "# traffic-air-city\n",
    "for city_a in countries_traffic:\n",
    "    for city_b in countries_air_city:\n",
    "        score = jw.get_sim_score(str(city_a), str(city_b))\n",
    "        if score >= threshold:\n",
    "            matches1.append({\n",
    "                \"City_A\": city_a,\n",
    "                \"City_B\": city_b,\n",
    "                \"Similarity\": round(score, 4)\n",
    "            })\n",
    "\n",
    "# reslt\n",
    "result_df = pd.DataFrame(matches1)\n",
    "print(result_df)"
   ]
  },
  {
   "cell_type": "code",
   "execution_count": 47,
   "metadata": {},
   "outputs": [
    {
     "name": "stdout",
     "output_type": "stream",
     "text": [
      "             City_A         City_B  Similarity\n",
      "0        San Marino     San Marino      0.9030\n",
      "1           Andorra        Andorra      0.9583\n",
      "2     Liechtenstein  Liechtenstein      0.9762\n",
      "3       New Zealand    New Zealand      0.9116\n",
      "4             Malta          Malta      0.9444\n",
      "..              ...            ...         ...\n",
      "698           Samoa          Samoa      1.0000\n",
      "699           Yemen          Yemen      1.0000\n",
      "700    South Africa   South Africa      1.0000\n",
      "701          Zambia         Zambia      1.0000\n",
      "702        Zimbabwe       Zimbabwe      1.0000\n",
      "\n",
      "[703 rows x 3 columns]\n"
     ]
    }
   ],
   "source": [
    "# air-country-weather\n",
    "for city_a in countries_air_country:\n",
    "    for city_b in countries_air_weather:\n",
    "        score = jw.get_sim_score(str(city_a), str(city_b))\n",
    "        if score >= threshold:\n",
    "            matches1.append({\n",
    "                \"City_A\": city_a,\n",
    "                \"City_B\": city_b,\n",
    "                \"Similarity\": round(score, 4)\n",
    "            })\n",
    "\n",
    "# reslt\n",
    "result_df = pd.DataFrame(matches1)\n",
    "print(result_df)"
   ]
  },
  {
   "cell_type": "code",
   "execution_count": 48,
   "metadata": {},
   "outputs": [],
   "source": [
    "# City - Jaro-Winkler\n",
    "jw = JaroWinkler()\n",
    "threshold = 0.90\n",
    "matches2 = []\n",
    "\n",
    "cities_air_city = air_city['City/Town'].dropna().unique()\n",
    "cities_air_weather = weather['location_name'].dropna().unique()"
   ]
  },
  {
   "cell_type": "code",
   "execution_count": null,
   "metadata": {},
   "outputs": [
    {
     "name": "stdout",
     "output_type": "stream",
     "text": [
      "China 的共同城市有: set()\n",
      "            City_a             City_B  Similarity\n",
      "0           Tirana             Tirana      1.0000\n",
      "1         Canberra           Canberra      1.0000\n",
      "2         Brussels           Brussels      1.0000\n",
      "3            Dhaka              Dhaka      1.0000\n",
      "4            Sofia              Sofia      1.0000\n",
      "..             ...                ...         ...\n",
      "102  San Francisco      San Francisco      1.0000\n",
      "103     San Rafael         San Rafael      1.0000\n",
      "104    Victorville           Victoria      0.9023\n",
      "105     Washington    Washington Park      0.9333\n",
      "106     Washington  Washington Harbor      0.9176\n",
      "\n",
      "[107 rows x 3 columns]\n"
     ]
    }
   ],
   "source": [
    "#Blocking strategy\n",
    "#Hash Strategy - city to city\n",
    "#Categorize the cities by their country, and pick an example [ex: China] for comparison\n",
    "\n",
    "\n",
    "from itertools import product\n",
    "\n",
    "cities_air_city = air_city['City/Town'].dropna().unique()\n",
    "cities_air_weather = weather['location_name'].dropna().unique()\n",
    "\n",
    "# 1. Preprocessing: remove empty values, unify format (lowercase & remove spaces)\n",
    "air_city['City/Town'] = air_city['City/Town'].str.lower().str.strip()\n",
    "air_city['Country'] = air_city['Country'].str.lower().str.strip()\n",
    "weather['location_name'] = weather['location_name'].str.lower().str.strip()\n",
    "weather['country'] = weather['country'].str.lower().str.strip()\n",
    "\n",
    "# 2. Filter records whose country is China\n",
    "cities_air_city_China = air_city[air_city['Country'] == 'China']\n",
    "cities_air_weather_China = weather[weather['country'] == 'China']\n",
    "\n",
    "# 3. Finding common cities (Blocking)\n",
    "common_cities = set(cities_air_city_China['City/Town']).intersection(\n",
    "    set(cities_air_weather_China['location_name'])\n",
    ")\n",
    "\n",
    "print(f\"China's common cities are: {common_cities}\")\n",
    "\n",
    "# 4. Make matching combinations in common cities\n",
    "# air-city-weather\n",
    "for city_a in cities_air_city:\n",
    "    for city_b in cities_air_weather:\n",
    "        score = jw.get_sim_score(str(city_a), str(city_b))\n",
    "        if score >= threshold:\n",
    "            matches2.append({\n",
    "                \"City_a\": city_a,\n",
    "                \"City_B\": city_b,\n",
    "                \"Similarity\": round(score, 4)\n",
    "            })\n",
    "\n",
    "# reslt\n",
    "result_df = pd.DataFrame(matches2)\n",
    "print(result_df)\n"
   ]
  }
 ],
 "metadata": {
  "kernelspec": {
   "display_name": "Python 3",
   "language": "python",
   "name": "python3"
  },
  "language_info": {
   "codemirror_mode": {
    "name": "ipython",
    "version": 3
   },
   "file_extension": ".py",
   "mimetype": "text/x-python",
   "name": "python",
   "nbconvert_exporter": "python",
   "pygments_lexer": "ipython3",
   "version": "3.12.9"
  }
 },
 "nbformat": 4,
 "nbformat_minor": 2
}
