{
 "cells": [
  {
   "cell_type": "code",
   "execution_count": 3,
   "metadata": {},
   "outputs": [],
   "source": [
    "import pandas as pd\n",
    "import Levenshtein as lev\n"
   ]
  },
  {
   "cell_type": "code",
   "execution_count": 4,
   "metadata": {},
   "outputs": [],
   "source": [
    "\n",
    "# Load datasets\n",
    "traffic = pd.read_csv(\"original data/trafficlist_forcountry.csv\")\n",
    "forest = pd.read_csv(\"original data/forest-cover-v1.csv\")\n",
    "air_city = pd.read_csv(\"original data/aap_air_quality_database_2018_v14.csv\", skiprows=2)\n",
    "air_country = pd.read_csv(\"original data/【12】GlobalPM25-1998-2022.csv\")\n",
    "weather = pd.read_csv(\"original data/GlobalWeatherRepository.csv\")\n"
   ]
  },
  {
   "cell_type": "code",
   "execution_count": 5,
   "metadata": {},
   "outputs": [],
   "source": [
    "\n",
    "# Country - Levenshtein Distance\n",
    "threshold = 2  # Set the maximum allowed Levenshtein distance (adjustable)\n",
    "matches1 = []  # result\n",
    "\n",
    "countries_traffic = traffic['Location'].dropna().unique()\n",
    "countries_forest = forest['Country Name'].dropna().unique()\n",
    "countries_air_city = air_city['Country'].dropna().unique()\n",
    "countries_air_country = air_country['Region'].dropna().unique()\n",
    "countries_air_weather = weather['country'].dropna().unique()\n"
   ]
  },
  {
   "cell_type": "code",
   "execution_count": 6,
   "metadata": {},
   "outputs": [],
   "source": [
    "\n",
    "def normalized_levenshtein(a, b):\n",
    "    \"\"\"Calculate normalized Levenshtein distance (0 to 1 where 1 is identical)\"\"\"\n",
    "    distance = lev.distance(str(a), str(b))\n",
    "    max_len = max(len(str(a)), len(str(b)))\n",
    "    if max_len == 0:\n",
    "        return 1.0\n",
    "    return 1 - (distance / max_len)\n"
   ]
  },
  {
   "cell_type": "code",
   "execution_count": 7,
   "metadata": {},
   "outputs": [
    {
     "name": "stdout",
     "output_type": "stream",
     "text": [
      "Traffic-Forest matches:\n",
      "Empty DataFrame\n",
      "Columns: []\n",
      "Index: []\n",
      "\n",
      "================================================================================\n",
      "\n"
     ]
    }
   ],
   "source": [
    "\n",
    "# traffic-forest\n",
    "for city_a in countries_traffic:\n",
    "    for city_b in countries_forest:\n",
    "        score = normalized_levenshtein(city_a, city_b)\n",
    "        if score >= threshold:\n",
    "            matches1.append({\n",
    "                \"City_A\": city_a,\n",
    "                \"City_B\": city_b,\n",
    "                \"Similarity\": round(score, 4)\n",
    "            })\n",
    "\n",
    "# result\n",
    "result_df = pd.DataFrame(matches1)\n",
    "print(\"Traffic-Forest matches:\")\n",
    "print(result_df)\n",
    "print(\"\\n\" + \"=\"*80 + \"\\n\")\n"
   ]
  },
  {
   "cell_type": "code",
   "execution_count": 8,
   "metadata": {},
   "outputs": [
    {
     "name": "stdout",
     "output_type": "stream",
     "text": [
      "Traffic-Air-Country matches:\n",
      "Empty DataFrame\n",
      "Columns: []\n",
      "Index: []\n",
      "\n",
      "================================================================================\n",
      "\n"
     ]
    }
   ],
   "source": [
    "\n",
    "# traffic-air-country\n",
    "matches1 = []\n",
    "for city_a in countries_traffic:\n",
    "    for city_b in countries_air_country:\n",
    "        score = normalized_levenshtein(city_a, city_b)\n",
    "        if score >= threshold:\n",
    "            matches1.append({\n",
    "                \"City_A\": city_a,\n",
    "                \"City_B\": city_b,\n",
    "                \"Similarity\": round(score, 4)\n",
    "            })\n",
    "\n",
    "# result\n",
    "result_df = pd.DataFrame(matches1)\n",
    "print(\"Traffic-Air-Country matches:\")\n",
    "print(result_df)\n",
    "print(\"\\n\" + \"=\"*80 + \"\\n\")\n"
   ]
  },
  {
   "cell_type": "code",
   "execution_count": 9,
   "metadata": {},
   "outputs": [
    {
     "name": "stdout",
     "output_type": "stream",
     "text": [
      "Traffic-Weather matches:\n",
      "Empty DataFrame\n",
      "Columns: []\n",
      "Index: []\n",
      "\n",
      "================================================================================\n",
      "\n"
     ]
    }
   ],
   "source": [
    "\n",
    "# traffic-weather\n",
    "matches1 = []\n",
    "for city_a in countries_traffic:\n",
    "    for city_b in countries_air_weather:\n",
    "        score = normalized_levenshtein(city_a, city_b)\n",
    "        if score >= threshold:\n",
    "            matches1.append({\n",
    "                \"City_A\": city_a,\n",
    "                \"City_B\": city_b,\n",
    "                \"Similarity\": round(score, 4)\n",
    "            })\n",
    "\n",
    "# result\n",
    "result_df = pd.DataFrame(matches1)\n",
    "print(\"Traffic-Weather matches:\")\n",
    "print(result_df)\n",
    "print(\"\\n\" + \"=\"*80 + \"\\n\")\n"
   ]
  },
  {
   "cell_type": "code",
   "execution_count": 10,
   "metadata": {},
   "outputs": [
    {
     "name": "stdout",
     "output_type": "stream",
     "text": [
      "Traffic-Air-City matches:\n",
      "Empty DataFrame\n",
      "Columns: []\n",
      "Index: []\n",
      "\n",
      "================================================================================\n",
      "\n"
     ]
    }
   ],
   "source": [
    "\n",
    "# traffic-air-city\n",
    "matches1 = []\n",
    "for city_a in countries_traffic:\n",
    "    for city_b in countries_air_city:\n",
    "        score = normalized_levenshtein(city_a, city_b)\n",
    "        if score >= threshold:\n",
    "            matches1.append({\n",
    "                \"City_A\": city_a,\n",
    "                \"City_B\": city_b,\n",
    "                \"Similarity\": round(score, 4)\n",
    "            })\n",
    "\n",
    "# result\n",
    "result_df = pd.DataFrame(matches1)\n",
    "print(\"Traffic-Air-City matches:\")\n",
    "print(result_df)\n",
    "print(\"\\n\" + \"=\"*80 + \"\\n\")\n"
   ]
  },
  {
   "cell_type": "code",
   "execution_count": 11,
   "metadata": {},
   "outputs": [
    {
     "name": "stdout",
     "output_type": "stream",
     "text": [
      "Air-Country-Weather matches:\n",
      "Empty DataFrame\n",
      "Columns: []\n",
      "Index: []\n",
      "\n",
      "================================================================================\n",
      "\n"
     ]
    }
   ],
   "source": [
    "\n",
    "# air-country-weather\n",
    "matches1 = []\n",
    "for city_a in countries_air_country:\n",
    "    for city_b in countries_air_weather:\n",
    "        score = normalized_levenshtein(city_a, city_b)\n",
    "        if score >= threshold:\n",
    "            matches1.append({\n",
    "                \"City_A\": city_a,\n",
    "                \"City_B\": city_b,\n",
    "                \"Similarity\": round(score, 4)\n",
    "            })\n",
    "\n",
    "# result\n",
    "result_df = pd.DataFrame(matches1)\n",
    "print(\"Air-Country-Weather matches:\")\n",
    "print(result_df)\n",
    "print(\"\\n\" + \"=\"*80 + \"\\n\")\n"
   ]
  },
  {
   "cell_type": "code",
   "execution_count": 12,
   "metadata": {},
   "outputs": [
    {
     "name": "stdout",
     "output_type": "stream",
     "text": [
      "Air-City-Weather matches:\n",
      "Empty DataFrame\n",
      "Columns: []\n",
      "Index: []\n"
     ]
    }
   ],
   "source": [
    "\n",
    "# City - Levenshtein Distance\n",
    "threshold = 2\n",
    "matches2 = []\n",
    "\n",
    "cities_air_city = air_city['City/Town'].dropna().unique()\n",
    "cities_air_weather = weather['location_name'].dropna().unique()\n",
    "\n",
    "# air-city-weather\n",
    "for city_a in cities_air_city:\n",
    "    for city_b in cities_air_weather:\n",
    "        score = normalized_levenshtein(city_a, city_b)\n",
    "        if score >= threshold:\n",
    "            matches2.append({\n",
    "                \"City_A\": city_a,\n",
    "                \"City_B\": city_b,\n",
    "                \"Similarity\": round(score, 4)\n",
    "            })\n",
    "\n",
    "# result\n",
    "result_df = pd.DataFrame(matches2)\n",
    "print(\"Air-City-Weather matches:\")\n",
    "print(result_df)"
   ]
  }
 ],
 "metadata": {
  "kernelspec": {
   "display_name": "myenv",
   "language": "python",
   "name": "python3"
  },
  "language_info": {
   "codemirror_mode": {
    "name": "ipython",
    "version": 3
   },
   "file_extension": ".py",
   "mimetype": "text/x-python",
   "name": "python",
   "nbconvert_exporter": "python",
   "pygments_lexer": "ipython3",
   "version": "3.11.9"
  }
 },
 "nbformat": 4,
 "nbformat_minor": 2
}
