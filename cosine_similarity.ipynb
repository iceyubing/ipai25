{
 "cells": [
  {
   "cell_type": "markdown",
   "metadata": {},
   "source": [
    "## Data Profiling using Pandas"
   ]
  },
  {
   "cell_type": "code",
   "execution_count": null,
   "metadata": {},
   "outputs": [],
   "source": [
    "# Generate the profiling report - Weather\n",
    "profile = ProfileReport(weather, title=\"YData Profiling Report - Weather\", explorative=True)\n",
    "\n",
    "# Save the report as an HTML file\n",
    "profile.to_file(\"profile_report_weather.html\")\n",
    "\n",
    "# To directly view in a Jupyter Notebook\n",
    "profile.to_notebook_iframe()"
   ]
  },
  {
   "cell_type": "markdown",
   "metadata": {},
   "source": [
    "## Cosine Similarity"
   ]
  },
  {
   "cell_type": "code",
   "execution_count": 1,
   "metadata": {},
   "outputs": [
    {
     "name": "stderr",
     "output_type": "stream",
     "text": [
      "c:\\Users\\Admin\\Documents\\GitHub\\ipai25\\dp.py:53: SettingWithCopyWarning: \n",
      "A value is trying to be set on a copy of a slice from a DataFrame.\n",
      "Try using .loc[row_indexer,col_indexer] = value instead\n",
      "\n",
      "See the caveats in the documentation: https://pandas.pydata.org/pandas-docs/stable/user_guide/indexing.html#returning-a-view-versus-a-copy\n",
      "  weather['country_normalized'] = weather['country'].apply(normalize_text)\n",
      "c:\\Users\\Admin\\Documents\\GitHub\\ipai25\\dp.py:66: SettingWithCopyWarning: \n",
      "A value is trying to be set on a copy of a slice from a DataFrame.\n",
      "Try using .loc[row_indexer,col_indexer] = value instead\n",
      "\n",
      "See the caveats in the documentation: https://pandas.pydata.org/pandas-docs/stable/user_guide/indexing.html#returning-a-view-versus-a-copy\n",
      "  weather['City_normalized'] = weather['location_name'].apply(normalize_text)\n"
     ]
    }
   ],
   "source": [
    "import dp"
   ]
  },
  {
   "cell_type": "code",
   "execution_count": 4,
   "metadata": {},
   "outputs": [],
   "source": [
    "threshold = 0.90"
   ]
  },
  {
   "cell_type": "code",
   "execution_count": 24,
   "metadata": {},
   "outputs": [
    {
     "name": "stdout",
     "output_type": "stream",
     "text": [
      "Traffic-Forest matches (sorted by similarity):\n",
      "      Source  Target                Value_A                Value_B  Similarity\n",
      "95   Traffic  Forest  sao tome and principe  sao tome and principe         1.0\n",
      "0    Traffic  Forest             san marino             san marino         1.0\n",
      "60   Traffic  Forest              sri lanka              sri lanka         1.0\n",
      "109  Traffic  Forest           burkina faso           burkina faso         1.0\n",
      "125  Traffic  Forest           sierra leone           sierra leone         1.0\n",
      "..       ...     ...                    ...                    ...         ...\n",
      "51   Traffic  Forest                 brazil                 brazil         1.0\n",
      "52   Traffic  Forest                 mexico                 mexico         1.0\n",
      "53   Traffic  Forest                georgia                georgia         1.0\n",
      "54   Traffic  Forest                 israel                 israel         1.0\n",
      "150  Traffic  Forest                somalia                somalia         1.0\n",
      "\n",
      "[151 rows x 5 columns]\n"
     ]
    }
   ],
   "source": [
    "# Cosine similarity matching function for traffic_countries & forest_countries\n",
    "def cosine_match(vectorizer, a, b):\n",
    "    # Transform strings to vectors\n",
    "    vectors = vectorizer.transform([a, b])\n",
    "    similarity_score = dp.cosine_similarity(vectors[0:1], vectors[1:2])[0][0]\n",
    "    return similarity_score >= threshold, similarity_score\n",
    "\n",
    "# Initialize TF-IDF vectorizer\n",
    "vectorizer = dp.TfidfVectorizer().fit(list(dp.countries_traffic)+list(dp.countries_forest))\n",
    "\n",
    "# Matching process\n",
    "matches_tf = []\n",
    "for loc in dp.countries_traffic:\n",
    "    for country in dp.countries_forest:\n",
    "        is_match, similarity = cosine_match(vectorizer, loc, country)\n",
    "        if is_match:\n",
    "            matches_tf.append({\n",
    "                \"Source\": \"Traffic\",\n",
    "                \"Target\": \"Forest\",\n",
    "                \"Value_A\": loc,\n",
    "                \"Value_B\": country,\n",
    "                \"Similarity\": similarity\n",
    "            })\n",
    "\n",
    "# Convert matches to DataFrame\n",
    "tf_df = dp.pd.DataFrame(matches_tf)\n",
    "\n",
    "# Display results\n",
    "if not tf_df.empty:\n",
    "    print(\"Traffic-Forest matches (sorted by similarity):\")\n",
    "    print(tf_df.sort_values('Similarity', ascending=False))\n",
    "else:\n",
    "    print(\"No Traffic-Forest matches found\")"
   ]
  },
  {
   "cell_type": "code",
   "execution_count": 25,
   "metadata": {},
   "outputs": [
    {
     "name": "stdout",
     "output_type": "stream",
     "text": [
      "Traffic-Air_Country matches (sorted by similarity):\n",
      "      Source       Target           Value_A           Value_B  Similarity\n",
      "0    Traffic  Air_Country        san marino        san marino         1.0\n",
      "22   Traffic  Air_Country    czech republic    czech republic         1.0\n",
      "162  Traffic  Air_Country  papua new guinea  papua new guinea         1.0\n",
      "143  Traffic  Air_Country      sierra leone      sierra leone         1.0\n",
      "124  Traffic  Air_Country      burkina faso      burkina faso         1.0\n",
      "..       ...          ...               ...               ...         ...\n",
      "69   Traffic  Air_Country            russia            russia         1.0\n",
      "70   Traffic  Air_Country            serbia            serbia         1.0\n",
      "71   Traffic  Air_Country            turkey            turkey         1.0\n",
      "72   Traffic  Air_Country          mongolia          mongolia         1.0\n",
      "85   Traffic  Air_Country            kosovo            kosovo         1.0\n",
      "\n",
      "[170 rows x 5 columns]\n"
     ]
    }
   ],
   "source": [
    "# Cosine similarity matching function for # traffic_countries & countries_air_country\n",
    "def cosine_match(vectorizer, a, b):\n",
    "    # Transform strings to vectors\n",
    "    vectors = vectorizer.transform([a, b])\n",
    "    similarity_score = dp.cosine_similarity(vectors[0:1], vectors[1:2])[0][0]\n",
    "    return similarity_score >= threshold, similarity_score\n",
    "\n",
    "# Initialize TF-IDF vectorizer\n",
    "vectorizer = dp.TfidfVectorizer().fit(list(dp.countries_traffic)+list(dp.countries_air_country))\n",
    "\n",
    "# Matching process\n",
    "matches_tf = []\n",
    "for loc in dp.countries_traffic:\n",
    "    for country in dp.countries_air_country:\n",
    "        is_match, similarity = cosine_match(vectorizer, loc, country)\n",
    "        if is_match:\n",
    "            matches_tf.append({\n",
    "                \"Source\": \"Traffic\",\n",
    "                \"Target\": \"Air_Country\",\n",
    "                \"Value_A\": loc,\n",
    "                \"Value_B\": country,\n",
    "                \"Similarity\": similarity\n",
    "            })\n",
    "\n",
    "# Convert matches to DataFrame\n",
    "tf_df = dp.pd.DataFrame(matches_tf)\n",
    "\n",
    "# Display results\n",
    "if not tf_df.empty:\n",
    "    print(\"Traffic-Air_Country matches (sorted by similarity):\")\n",
    "    print(tf_df.sort_values('Similarity', ascending=False))\n",
    "else:\n",
    "    print(\"No Traffic-Forest matches found\")"
   ]
  },
  {
   "cell_type": "code",
   "execution_count": 26,
   "metadata": {},
   "outputs": [
    {
     "name": "stdout",
     "output_type": "stream",
     "text": [
      "Traffic-Air_City matches (sorted by similarity):\n",
      "     Source    Target         Value_A         Value_B  Similarity\n",
      "57  Traffic  Air_City    saudi arabia    saudi arabia         1.0\n",
      "63  Traffic  Air_City     el salvador     el salvador         1.0\n",
      "34  Traffic  Air_City      costa rica      costa rica         1.0\n",
      "0   Traffic  Air_City         andorra         andorra         1.0\n",
      "51  Traffic  Air_City         albania         albania         1.0\n",
      "..      ...       ...             ...             ...         ...\n",
      "25  Traffic  Air_City         austria         austria         1.0\n",
      "24  Traffic  Air_City        slovenia        slovenia         1.0\n",
      "23  Traffic  Air_City         belgium         belgium         1.0\n",
      "22  Traffic  Air_City        slovakia        slovakia         1.0\n",
      "20  Traffic  Air_City  united kingdom  united kingdom         1.0\n",
      "\n",
      "[80 rows x 5 columns]\n"
     ]
    }
   ],
   "source": [
    "# Cosine similarity matching function for # traffic_countries & countries_air_city\n",
    "def cosine_match(vectorizer, a, b):\n",
    "    # Transform strings to vectors\n",
    "    vectors = vectorizer.transform([a, b])\n",
    "    similarity_score = dp.cosine_similarity(vectors[0:1], vectors[1:2])[0][0]\n",
    "    return similarity_score >= threshold, similarity_score\n",
    "\n",
    "# Initialize TF-IDF vectorizer\n",
    "vectorizer = dp.TfidfVectorizer().fit(list(dp.countries_traffic)+list(dp.countries_air_city))\n",
    "\n",
    "# Matching process\n",
    "matches_tf = []\n",
    "for loc in dp.countries_traffic:\n",
    "    for country in dp.countries_air_city:\n",
    "        is_match, similarity = cosine_match(vectorizer, loc, country)\n",
    "        if is_match:\n",
    "            matches_tf.append({\n",
    "                \"Source\": \"Traffic\",\n",
    "                \"Target\": \"Air_City\",\n",
    "                \"Value_A\": loc,\n",
    "                \"Value_B\": country,\n",
    "                \"Similarity\": similarity\n",
    "            })\n",
    "\n",
    "# Convert matches to DataFrame\n",
    "tf_df = dp.pd.DataFrame(matches_tf)\n",
    "\n",
    "# Display results\n",
    "if not tf_df.empty:\n",
    "    print(\"Traffic-Air_City matches (sorted by similarity):\")\n",
    "    print(tf_df.sort_values('Similarity', ascending=False))\n",
    "else:\n",
    "    print(\"No Traffic-Forest matches found\")"
   ]
  },
  {
   "cell_type": "code",
   "execution_count": 27,
   "metadata": {},
   "outputs": [
    {
     "name": "stdout",
     "output_type": "stream",
     "text": [
      "Traffic-Air_Weather matches (sorted by similarity):\n",
      "      Source       Target       Value_A       Value_B  Similarity\n",
      "0    Traffic  Air_Weather    san marino    san marino         1.0\n",
      "130  Traffic  Air_Weather  sierra leone  sierra leone         1.0\n",
      "83   Traffic  Air_Weather  south africa  south africa         1.0\n",
      "84   Traffic  Air_Weather   saint lucia   saint lucia         1.0\n",
      "97   Traffic  Air_Weather   el salvador   el salvador         1.0\n",
      "..       ...          ...           ...           ...         ...\n",
      "55   Traffic  Air_Weather        mexico        mexico         1.0\n",
      "56   Traffic  Air_Weather       georgia       georgia         1.0\n",
      "57   Traffic  Air_Weather        israel        israel         1.0\n",
      "58   Traffic  Air_Weather      barbados      barbados         1.0\n",
      "155  Traffic  Air_Weather   north korea   north korea         1.0\n",
      "\n",
      "[156 rows x 5 columns]\n"
     ]
    }
   ],
   "source": [
    "# Cosine similarity matching function for # traffic_countries & countries_air_weather\n",
    "def cosine_match(vectorizer, a, b):\n",
    "    # Transform strings to vectors\n",
    "    vectors = vectorizer.transform([a, b])\n",
    "    similarity_score = dp.cosine_similarity(vectors[0:1], vectors[1:2])[0][0]\n",
    "    return similarity_score >= threshold, similarity_score\n",
    "\n",
    "# Initialize TF-IDF vectorizer\n",
    "vectorizer = dp.TfidfVectorizer().fit(list(dp.countries_traffic)+list(dp.countries_air_weather))\n",
    "\n",
    "# Matching process\n",
    "matches_tf = []\n",
    "for loc in dp.countries_traffic:\n",
    "    for country in dp.countries_air_weather:\n",
    "        is_match, similarity = cosine_match(vectorizer, loc, country)\n",
    "        if is_match:\n",
    "            matches_tf.append({\n",
    "                \"Source\": \"Traffic\",\n",
    "                \"Target\": \"Air_Weather\",\n",
    "                \"Value_A\": loc,\n",
    "                \"Value_B\": country,\n",
    "                \"Similarity\": similarity\n",
    "            })\n",
    "\n",
    "# Convert matches to DataFrame\n",
    "tf_df = dp.pd.DataFrame(matches_tf)\n",
    "\n",
    "# Display results\n",
    "if not tf_df.empty:\n",
    "    print(\"Traffic-Air_Weather matches (sorted by similarity):\")\n",
    "    print(tf_df.sort_values('Similarity', ascending=False))\n",
    "else:\n",
    "    print(\"No Traffic-Forest matches found\")"
   ]
  },
  {
   "cell_type": "code",
   "execution_count": 5,
   "metadata": {},
   "outputs": [
    {
     "name": "stdout",
     "output_type": "stream",
     "text": [
      "City_Forest - City_Air_City matches (sorted by similarity):\n",
      "         Source         Target       Value_A       Value_B  Similarity\n",
      "42  City_Forest  City_Air_City   mexico city   mexico city         1.0\n",
      "56  City_Forest  City_Air_City  san salvador  san salvador         1.0\n",
      "11  City_Forest  City_Air_City      san jose      san jose         1.0\n",
      "26  City_Forest  City_Air_City     hong kong     hong kong         1.0\n",
      "47  City_Forest  City_Air_City     kathmandu     kathmandu         1.0\n",
      "..          ...            ...           ...           ...         ...\n",
      "28  City_Forest  City_Air_City      budapest      budapest         1.0\n",
      "29  City_Forest  City_Air_City       jakarta       jakarta         1.0\n",
      "30  City_Forest  City_Air_City       douglas       douglas         1.0\n",
      "31  City_Forest  City_Air_City        tehran        tehran         1.0\n",
      "65  City_Forest  City_Air_City    montevideo    montevideo         1.0\n",
      "\n",
      "[66 rows x 5 columns]\n"
     ]
    }
   ],
   "source": [
    "# Cosine similarity matching function for # city_forest & city_air_city\n",
    "def cosine_match(vectorizer, a, b):\n",
    "    # Transform strings to vectors\n",
    "    vectors = vectorizer.transform([a, b])\n",
    "    similarity_score = dp.cosine_similarity(vectors[0:1], vectors[1:2])[0][0]\n",
    "    return similarity_score >= threshold, similarity_score\n",
    "\n",
    "# Initialize TF-IDF vectorizer\n",
    "vectorizer = dp.TfidfVectorizer().fit(list(dp.city_forest)+list(dp.city_air_city))\n",
    "\n",
    "# Matching process\n",
    "matches_tf = []\n",
    "for loc in dp.city_forest:\n",
    "    for city in dp.city_air_city:\n",
    "        is_match, similarity = cosine_match(vectorizer, loc, city)\n",
    "        if is_match:\n",
    "            matches_tf.append({\n",
    "                \"Source\": \"City_Forest\",\n",
    "                \"Target\": \"City_Air_City\",\n",
    "                \"Value_A\": loc,\n",
    "                \"Value_B\": city,\n",
    "                \"Similarity\": similarity\n",
    "            })\n",
    "\n",
    "# Convert matches to DataFrame\n",
    "tf_df = dp.pd.DataFrame(matches_tf)\n",
    "\n",
    "# Display results\n",
    "if not tf_df.empty:\n",
    "    print(\"City_Forest - City_Air_City matches (sorted by similarity):\")\n",
    "    print(tf_df.sort_values('Similarity', ascending=False))\n",
    "else:\n",
    "    print(\"No City_Air_City matches found\")"
   ]
  },
  {
   "cell_type": "code",
   "execution_count": null,
   "metadata": {},
   "outputs": [
    {
     "name": "stdout",
     "output_type": "stream",
     "text": [
      "City_Forest - City_Air_Weather matches (sorted by similarity):\n",
      "          Source            Target         Value_A         Value_B  Similarity\n",
      "45   City_Forest  City_Air_Weather   santo domingo   santo domingo         1.0\n",
      "52   City_Forest  City_Air_Weather     addis ababa     addis ababa         1.0\n",
      "74   City_Forest  City_Air_Weather       new delhi       new delhi         1.0\n",
      "101  City_Forest  City_Air_Weather     mexico city     mexico city         1.0\n",
      "67   City_Forest  City_Air_Weather  guatemala city  guatemala city         1.0\n",
      "..           ...               ...             ...             ...         ...\n",
      "60   City_Forest  City_Air_Weather           accra           accra         1.0\n",
      "61   City_Forest  City_Air_Weather         conakry         conakry         1.0\n",
      "62   City_Forest  City_Air_Weather          banjul          banjul         1.0\n",
      "63   City_Forest  City_Air_Weather          bissau          bissau         1.0\n",
      "173  City_Forest  City_Air_Weather          harare          harare         1.0\n",
      "\n",
      "[174 rows x 5 columns]\n"
     ]
    }
   ],
   "source": [
    "# Cosine similarity matching function for # city_forest & city_air_weather\n",
    "def cosine_match(vectorizer, a, b):\n",
    "    # Transform strings to vectors\n",
    "    vectors = vectorizer.transform([a, b])\n",
    "    similarity_score = dp.cosine_similarity(vectors[0:1], vectors[1:2])[0][0]\n",
    "    return similarity_score >= threshold, similarity_score\n",
    "\n",
    "# Initialize TF-IDF vectorizer\n",
    "vectorizer = dp.TfidfVectorizer().fit(list(dp.city_forest)+list(dp.city_air_weather))\n",
    "\n",
    "# Matching process\n",
    "matches_tf = []\n",
    "for loc in dp.city_forest:\n",
    "    for city in dp.city_air_weather:\n",
    "        is_match, similarity = cosine_match(vectorizer, loc, city)\n",
    "        if is_match:\n",
    "            matches_tf.append({\n",
    "                \"Source\": \"City_Forest\",\n",
    "                \"Target\": \"City_Air_Weather\",\n",
    "                \"Value_A\": loc,\n",
    "                \"Value_B\": city,\n",
    "                \"Similarity\": similarity\n",
    "            })\n",
    "\n",
    "# Convert matches to DataFrame\n",
    "tf_df = dp.pd.DataFrame(matches_tf)\n",
    "\n",
    "# Display results\n",
    "if not tf_df.empty:\n",
    "    print(\"City_Forest - City_Air_Weather matches (sorted by similarity):\")\n",
    "    print(tf_df.sort_values('Similarity', ascending=False))\n",
    "else:\n",
    "    print(\"No City_Air_Weather matches found\")"
   ]
  },
  {
   "cell_type": "code",
   "execution_count": null,
   "metadata": {},
   "outputs": [],
   "source": []
  }
 ],
 "metadata": {
  "kernelspec": {
   "display_name": "base",
   "language": "python",
   "name": "python3"
  },
  "language_info": {
   "codemirror_mode": {
    "name": "ipython",
    "version": 3
   },
   "file_extension": ".py",
   "mimetype": "text/x-python",
   "name": "python",
   "nbconvert_exporter": "python",
   "pygments_lexer": "ipython3",
   "version": "3.12.4"
  }
 },
 "nbformat": 4,
 "nbformat_minor": 2
}
